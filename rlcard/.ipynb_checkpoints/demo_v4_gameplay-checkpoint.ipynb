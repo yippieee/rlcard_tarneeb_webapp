{
 "cells": [
  {
   "cell_type": "code",
   "execution_count": null,
   "id": "fiscal-exercise",
   "metadata": {},
   "outputs": [],
   "source": [
    "# ! conda install pytorch torchvision torchaudio cpuonly -c pytorch"
   ]
  },
  {
   "cell_type": "markdown",
   "id": "designing-adjustment",
   "metadata": {},
   "source": [
    "# Import"
   ]
  },
  {
   "cell_type": "code",
   "execution_count": 1,
   "id": "pursuant-vegetarian",
   "metadata": {},
   "outputs": [
    {
     "name": "stderr",
     "output_type": "stream",
     "text": [
      "/home/naveen/anaconda3/envs/rl_env/lib/python3.6/site-packages/tqdm/auto.py:22: TqdmWarning: IProgress not found. Please update jupyter and ipywidgets. See https://ipywidgets.readthedocs.io/en/stable/user_install.html\n",
      "  from .autonotebook import tqdm as notebook_tqdm\n"
     ]
    }
   ],
   "source": [
    "import os\n",
    "import argparse\n",
    "\n",
    "import torch\n",
    "\n",
    "import rlcard\n",
    "from rlcard.agents import RandomAgent\n",
    "from rlcard.utils import get_device, set_seed, tournament, reorganize, Logger"
   ]
  },
  {
   "cell_type": "markdown",
   "id": "ruled-duration",
   "metadata": {},
   "source": [
    "# Training "
   ]
  },
  {
   "cell_type": "code",
   "execution_count": 2,
   "id": "characteristic-scott",
   "metadata": {
    "scrolled": true,
    "tags": []
   },
   "outputs": [
    {
     "name": "stdout",
     "output_type": "stream",
     "text": [
      "--> Running on the CPU\n"
     ]
    }
   ],
   "source": [
    "#### import torch\n",
    "\n",
    "import rlcard\n",
    "from rlcard.agents import RandomAgent\n",
    "from rlcard.utils import get_device, set_seed, tournament, reorganize, Logger\n",
    "\n",
    "\n",
    "# Check whether gpu is available\n",
    "device = get_device()\n",
    "\n",
    "# Seed numpy, torch, random\n",
    "set_seed(7)\n",
    "\n",
    "# Make the environment with seed\n",
    "env = rlcard.make(\"bridge\", config={'seed': 7})\n",
    "\n",
    "# Initialize the agent and use random agents as opponents\n",
    "from rlcard.agents import DQNAgent\n",
    "agent1 = torch.load('agent1DQN_model1.pth')\n",
    "agent2 = RandomAgent(num_actions=env.num_actions, name='Player 2')\n",
    "\n",
    "agent3 = torch.load('agent2DQN_model1.pth')\n",
    "agent4 = RandomAgent(num_actions=env.num_actions, name='Player 4')\n",
    "\n",
    "agents = [agent1, agent2, agent3, agent4]\n",
    "\n",
    "env.set_agents(agents)\n"
   ]
  },
  {
   "cell_type": "code",
   "execution_count": null,
   "id": "based-equation",
   "metadata": {},
   "outputs": [],
   "source": []
  },
  {
   "cell_type": "markdown",
   "id": "surface-philadelphia",
   "metadata": {},
   "source": [
    "# Game Play"
   ]
  },
  {
   "cell_type": "markdown",
   "id": "collect-shoot",
   "metadata": {},
   "source": [
    "Play Game for 1 fateiyah"
   ]
  },
  {
   "cell_type": "code",
   "execution_count": 2,
   "id": "polished-meter",
   "metadata": {},
   "outputs": [],
   "source": [
    "agent1.verbose = True\n",
    "agent2.verbose = True\n",
    "agent3.verbose = True"
   ]
  },
  {
   "cell_type": "code",
   "execution_count": null,
   "id": "sunset-translation",
   "metadata": {},
   "outputs": [],
   "source": []
  },
  {
   "cell_type": "code",
   "execution_count": 20,
   "id": "pregnant-dispatch",
   "metadata": {
    "scrolled": true,
    "tags": []
   },
   "outputs": [
    {
     "name": "stdout",
     "output_type": "stream",
     "text": [
      "\n",
      "**************************************** Setup ****************************************\n",
      "Dealer ID: 1\n",
      "\n",
      "Player1: [3H, 5D, 4D, TC, JS, QS, 3S, 6H, 8D, 7C, 4C, QD, TH]\n",
      "\n",
      "Player2: [5S, 9H, KS, KC, 5H, KD, 9C, KH, 8C, 2S, 5C, 2D, 4S]\n",
      "\n",
      "Player3: [3D, AD, TD, JH, 8S, AC, AS, TS, 9S, 6S, 7H, 7D, QH]\n",
      "\n",
      "Player4: [2H, JD, 6C, 2C, 8H, 4H, QC, JC, 6D, 9D, AH, 7S, 3C]\n",
      "\n",
      "Seating Order:\n",
      "```p1```\n",
      "p2````p4\n",
      "```p3```\n",
      "\n",
      "**************************************** Game Start ****************************************\n",
      "\n",
      "-------------- STATE / Human Agent / Player 4 --------------\n",
      "1. My Hand Rep:               ['2C', '3C', '6C', 'JC', 'QC', '6D', '9D', 'JD', '2H', '4H', '8H', 'AH', '7S']\n",
      "2. Pile Rep:                  []\n",
      "3. Other Player Rep:          ['4C', '5C', '7C', '8C', '9C', 'TC', 'KC', 'AC', '2D', '3D', '4D', '5D', '7D', '8D', 'TD', 'QD', 'KD', 'AD', '3H', '5H', '6H', '7H', '9H', 'TH', 'JH', 'QH', 'KH', '2S', '3S', '4S', '5S', '6S', '8S', '9S', 'TS', 'JS', 'QS', 'KS', 'AS']\n",
      "4. Dealer Rep:                [Player 1]\n",
      "5. Current Player:            [Player 4]\n",
      "6. Is PlayCard phase:         [0]\n",
      "7. Last 3 Bidding Rep:        ['Player2_10_Diamond', 'Player3_11_Diamond']\n",
      "8. Contract Bid rep:          -\n",
      "9. Contract Trump rep:        -\n",
      "10. Contract Highest Bidder:  -\n",
      "\n",
      "Possible Legal Actions: ['Pass', '12_Club', '12_Diamond', '12_Hearts', '12_Spade', '13_Club', '13_Diamond', '13_Hearts', '13_Spade']\n",
      ">> You choose action (integer):\n"
     ]
    },
    {
     "name": "stdin",
     "output_type": "stream",
     "text": [
      " 4\n"
     ]
    },
    {
     "name": "stdout",
     "output_type": "stream",
     "text": [
      "\n",
      "Final Choice: 12_Spade\n",
      "\n",
      "-------------- STATE / Human Agent / Player 4 --------------\n",
      "1. My Hand Rep:               ['2C', '3C', '6C', 'JC', 'QC', '6D', '9D', 'JD', '2H', '4H', '8H', 'AH', '7S']\n",
      "2. Pile Rep:                  []\n",
      "3. Other Player Rep:          ['4C', '5C', '7C', '8C', '9C', 'TC', 'KC', 'AC', '2D', '3D', '4D', '5D', '7D', '8D', 'TD', 'QD', 'KD', 'AD', '3H', '5H', '6H', '7H', '9H', 'TH', 'JH', 'QH', 'KH', '2S', '3S', '4S', '5S', '6S', '8S', '9S', 'TS', 'JS', 'QS', 'KS', 'AS']\n",
      "4. Dealer Rep:                [Player 1]\n",
      "5. Current Player:            [Player 4]\n",
      "6. Is PlayCard phase:         [0]\n",
      "7. Last 3 Bidding Rep:        ['Player1_Pass', 'Player2_13_Club', 'Player3_Pass']\n",
      "8. Contract Bid rep:          -\n",
      "9. Contract Trump rep:        -\n",
      "10. Contract Highest Bidder:  -\n",
      "\n",
      "Possible Legal Actions: ['Pass']\n",
      ">> You choose action (integer):\n"
     ]
    },
    {
     "name": "stdin",
     "output_type": "stream",
     "text": [
      " 0\n"
     ]
    },
    {
     "name": "stdout",
     "output_type": "stream",
     "text": [
      "\n",
      "Final Choice: Pass\n",
      "\n",
      "-------------- STATE / Human Agent / Player 4 --------------\n",
      "1. My Hand Rep:               ['2C', '3C', '6C', 'JC', 'QC', '6D', '9D', 'JD', '2H', '4H', '8H', 'AH', '7S']\n",
      "2. Pile Rep:                  ['KC', 'AC']\n",
      "3. Other Player Rep:          ['4C', '5C', '7C', '8C', '9C', 'TC', '2D', '3D', '4D', '5D', '7D', '8D', 'TD', 'QD', 'KD', 'AD', '3H', '5H', '6H', '7H', '9H', 'TH', 'JH', 'QH', 'KH', '2S', '3S', '4S', '5S', '6S', '8S', '9S', 'TS', 'JS', 'QS', 'KS', 'AS']\n",
      "4. Dealer Rep:                [Player 1]\n",
      "5. Current Player:            [Player 4]\n",
      "6. Is PlayCard phase:         [1]\n",
      "7. Last 3 Bidding Rep:        -\n",
      "8. Contract Bid rep:          [13]\n",
      "9. Contract Trump rep:        ['Club']\n",
      "10. Contract Highest Bidder:  ['Player 2']\n",
      "\n",
      "Possible Legal Actions: [6C, 2C, QC, JC, 3C]\n",
      ">> You choose action (integer):\n"
     ]
    },
    {
     "name": "stdin",
     "output_type": "stream",
     "text": [
      " 1\n"
     ]
    },
    {
     "name": "stdout",
     "output_type": "stream",
     "text": [
      "\n",
      "Final Choice: 2C\n",
      "\n",
      " ************************************** ROUND END (Winner: Player 3)***********************************\n",
      "\n",
      "-------------- STATE / Human Agent / Player 4 --------------\n",
      "1. My Hand Rep:               ['3C', '6C', 'JC', 'QC', '6D', '9D', 'JD', '2H', '4H', '8H', 'AH', '7S']\n",
      "2. Pile Rep:                  ['TD']\n",
      "3. Other Player Rep:          ['4C', '5C', '7C', '8C', '9C', '2D', '3D', '4D', '5D', '7D', '8D', 'QD', 'KD', 'AD', '3H', '5H', '6H', '7H', '9H', 'TH', 'JH', 'QH', 'KH', '2S', '3S', '4S', '5S', '6S', '8S', '9S', 'TS', 'JS', 'QS', 'KS', 'AS']\n",
      "4. Dealer Rep:                [Player 1]\n",
      "5. Current Player:            [Player 4]\n",
      "6. Is PlayCard phase:         [1]\n",
      "7. Last 3 Bidding Rep:        -\n",
      "8. Contract Bid rep:          [13]\n",
      "9. Contract Trump rep:        ['Club']\n",
      "10. Contract Highest Bidder:  ['Player 2']\n",
      "\n",
      "Possible Legal Actions: [JD, 6D, 9D]\n",
      ">> You choose action (integer):\n"
     ]
    },
    {
     "name": "stdin",
     "output_type": "stream",
     "text": [
      " 0\n"
     ]
    },
    {
     "name": "stdout",
     "output_type": "stream",
     "text": [
      "\n",
      "Final Choice: JD\n",
      "\n",
      " ************************************** ROUND END (Winner: Player 2)***********************************\n",
      "\n",
      "-------------- STATE / Human Agent / Player 4 --------------\n",
      "1. My Hand Rep:               ['3C', '6C', 'JC', 'QC', '6D', '9D', '2H', '4H', '8H', 'AH', '7S']\n",
      "2. Pile Rep:                  ['5S', '9S']\n",
      "3. Other Player Rep:          ['4C', '5C', '7C', '8C', '9C', '2D', '3D', '4D', '7D', '8D', 'QD', 'AD', '3H', '5H', '6H', '7H', '9H', 'TH', 'JH', 'QH', 'KH', '2S', '3S', '4S', '6S', '8S', 'TS', 'JS', 'QS', 'KS', 'AS']\n",
      "4. Dealer Rep:                [Player 1]\n",
      "5. Current Player:            [Player 4]\n",
      "6. Is PlayCard phase:         [1]\n",
      "7. Last 3 Bidding Rep:        -\n",
      "8. Contract Bid rep:          [13]\n",
      "9. Contract Trump rep:        ['Club']\n",
      "10. Contract Highest Bidder:  ['Player 2']\n",
      "\n",
      "Possible Legal Actions: [7S]\n",
      ">> You choose action (integer):\n"
     ]
    },
    {
     "name": "stdin",
     "output_type": "stream",
     "text": [
      " 0\n"
     ]
    },
    {
     "name": "stdout",
     "output_type": "stream",
     "text": [
      "\n",
      "Final Choice: 7S\n",
      "\n",
      " ************************************** ROUND END (Winner: Player 1)***********************************\n",
      "\n",
      "-------------- STATE / Human Agent / Player 4 --------------\n",
      "1. My Hand Rep:               ['3C', '6C', 'JC', 'QC', '6D', '9D', '2H', '4H', '8H', 'AH']\n",
      "2. Pile Rep:                  ['6H', 'KH', '7H']\n",
      "3. Other Player Rep:          ['4C', '5C', '7C', '8C', '9C', '2D', '3D', '4D', '7D', '8D', 'QD', 'AD', '3H', '5H', '9H', 'TH', 'JH', 'QH', '2S', '3S', '4S', '6S', '8S', 'TS', 'QS', 'KS', 'AS']\n",
      "4. Dealer Rep:                [Player 1]\n",
      "5. Current Player:            [Player 4]\n",
      "6. Is PlayCard phase:         [1]\n",
      "7. Last 3 Bidding Rep:        -\n",
      "8. Contract Bid rep:          [13]\n",
      "9. Contract Trump rep:        ['Club']\n",
      "10. Contract Highest Bidder:  ['Player 2']\n",
      "\n",
      "Possible Legal Actions: [2H, 8H, 4H, AH]\n",
      ">> You choose action (integer):\n"
     ]
    },
    {
     "name": "stdin",
     "output_type": "stream",
     "text": [
      " 0\n"
     ]
    },
    {
     "name": "stdout",
     "output_type": "stream",
     "text": [
      "\n",
      "Final Choice: 2H\n",
      "\n",
      " ************************************** ROUND END (Winner: Player 2)***********************************\n",
      "\n",
      "-------------- STATE / Human Agent / Player 4 --------------\n",
      "1. My Hand Rep:               ['3C', '6C', 'JC', 'QC', '6D', '9D', '4H', '8H', 'AH']\n",
      "2. Pile Rep:                  ['4S', 'AS']\n",
      "3. Other Player Rep:          ['4C', '5C', '7C', '8C', '9C', '2D', '3D', '4D', '7D', '8D', 'QD', 'AD', '3H', '5H', '9H', 'TH', 'JH', 'QH', '2S', '3S', '6S', '8S', 'TS', 'QS', 'KS']\n",
      "4. Dealer Rep:                [Player 1]\n",
      "5. Current Player:            [Player 4]\n",
      "6. Is PlayCard phase:         [1]\n",
      "7. Last 3 Bidding Rep:        -\n",
      "8. Contract Bid rep:          [13]\n",
      "9. Contract Trump rep:        ['Club']\n",
      "10. Contract Highest Bidder:  ['Player 2']\n",
      "\n",
      "Possible Legal Actions: [6C, QC, JC, 3C]\n",
      ">> You choose action (integer):\n"
     ]
    },
    {
     "name": "stdin",
     "output_type": "stream",
     "text": [
      " 0\n"
     ]
    },
    {
     "name": "stdout",
     "output_type": "stream",
     "text": [
      "\n",
      "Final Choice: 6C\n",
      "\n",
      " ************************************** ROUND END (Winner: Player 4)***********************************\n",
      "\n",
      "-------------- STATE / Human Agent / Player 4 --------------\n",
      "1. My Hand Rep:               ['3C', 'JC', 'QC', '6D', '9D', '4H', '8H', 'AH']\n",
      "2. Pile Rep:                  ['3S', '4S', 'AS', '6C']\n",
      "3. Other Player Rep:          ['4C', '5C', '7C', '8C', '9C', '2D', '3D', '4D', '7D', '8D', 'QD', 'AD', '3H', '5H', '9H', 'TH', 'JH', 'QH', '2S', '6S', '8S', 'TS', 'QS', 'KS']\n",
      "4. Dealer Rep:                [Player 1]\n",
      "5. Current Player:            [Player 4]\n",
      "6. Is PlayCard phase:         [1]\n",
      "7. Last 3 Bidding Rep:        -\n",
      "8. Contract Bid rep:          [13]\n",
      "9. Contract Trump rep:        ['Club']\n",
      "10. Contract Highest Bidder:  ['Player 2']\n",
      "\n",
      "Possible Legal Actions: [8H, 4H, QC, JC, 6D, 9D, AH, 3C]\n",
      ">> You choose action (integer):\n"
     ]
    },
    {
     "name": "stdin",
     "output_type": "stream",
     "text": [
      " 0\n"
     ]
    },
    {
     "name": "stdout",
     "output_type": "stream",
     "text": [
      "\n",
      "Final Choice: 8H\n",
      "\n",
      " ************************************** ROUND END (Winner: Player 3)***********************************\n",
      "\n",
      "-------------- STATE / Human Agent / Player 4 --------------\n",
      "1. My Hand Rep:               ['3C', 'JC', 'QC', '6D', '9D', '4H', 'AH']\n",
      "2. Pile Rep:                  ['8S']\n",
      "3. Other Player Rep:          ['4C', '5C', '7C', '8C', '9C', '2D', '3D', '4D', '7D', '8D', 'QD', 'AD', '3H', '9H', 'QH', '2S', '6S', 'TS', 'QS', 'KS']\n",
      "4. Dealer Rep:                [Player 1]\n",
      "5. Current Player:            [Player 4]\n",
      "6. Is PlayCard phase:         [1]\n",
      "7. Last 3 Bidding Rep:        -\n",
      "8. Contract Bid rep:          [13]\n",
      "9. Contract Trump rep:        ['Club']\n",
      "10. Contract Highest Bidder:  ['Player 2']\n",
      "\n",
      "Possible Legal Actions: [QC, JC, 3C]\n",
      ">> You choose action (integer):\n"
     ]
    },
    {
     "name": "stdin",
     "output_type": "stream",
     "text": [
      " 0\n"
     ]
    },
    {
     "name": "stdout",
     "output_type": "stream",
     "text": [
      "\n",
      "Final Choice: QC\n",
      "\n",
      " ************************************** ROUND END (Winner: Player 4)***********************************\n",
      "\n",
      "-------------- STATE / Human Agent / Player 4 --------------\n",
      "1. My Hand Rep:               ['3C', 'JC', '6D', '9D', '4H', 'AH']\n",
      "2. Pile Rep:                  ['QS', '2S', '8S', 'QC']\n",
      "3. Other Player Rep:          ['4C', '5C', '7C', '8C', '9C', '2D', '3D', '4D', '7D', '8D', 'QD', 'AD', '3H', '9H', 'QH', '6S', 'TS', 'KS']\n",
      "4. Dealer Rep:                [Player 1]\n",
      "5. Current Player:            [Player 4]\n",
      "6. Is PlayCard phase:         [1]\n",
      "7. Last 3 Bidding Rep:        -\n",
      "8. Contract Bid rep:          [13]\n",
      "9. Contract Trump rep:        ['Club']\n",
      "10. Contract Highest Bidder:  ['Player 2']\n",
      "\n",
      "Possible Legal Actions: [4H, JC, 6D, 9D, AH, 3C]\n",
      ">> You choose action (integer):\n"
     ]
    },
    {
     "name": "stdin",
     "output_type": "stream",
     "text": [
      " 0\n"
     ]
    },
    {
     "name": "stdout",
     "output_type": "stream",
     "text": [
      "\n",
      "Final Choice: 4H\n",
      "\n",
      " ************************************** ROUND END (Winner: Player 3)***********************************\n",
      "\n",
      "-------------- STATE / Human Agent / Player 4 --------------\n",
      "1. My Hand Rep:               ['3C', 'JC', '6D', '9D', 'AH']\n",
      "2. Pile Rep:                  ['7D']\n",
      "3. Other Player Rep:          ['4C', '5C', '7C', '8C', '9C', '2D', '3D', '4D', '8D', 'QD', 'AD', '6S', 'TS', 'KS']\n",
      "4. Dealer Rep:                [Player 1]\n",
      "5. Current Player:            [Player 4]\n",
      "6. Is PlayCard phase:         [1]\n",
      "7. Last 3 Bidding Rep:        -\n",
      "8. Contract Bid rep:          [13]\n",
      "9. Contract Trump rep:        ['Club']\n",
      "10. Contract Highest Bidder:  ['Player 2']\n",
      "\n",
      "Possible Legal Actions: [6D, 9D]\n",
      ">> You choose action (integer):\n"
     ]
    },
    {
     "name": "stdin",
     "output_type": "stream",
     "text": [
      " 0\n"
     ]
    },
    {
     "name": "stdout",
     "output_type": "stream",
     "text": [
      "\n",
      "Final Choice: 6D\n",
      "\n",
      " ************************************** ROUND END (Winner: Player 1)***********************************\n",
      "\n",
      "-------------- STATE / Human Agent / Player 4 --------------\n",
      "1. My Hand Rep:               ['3C', 'JC', '9D', 'AH']\n",
      "2. Pile Rep:                  ['4D', '5C', 'AD']\n",
      "3. Other Player Rep:          ['4C', '7C', '8C', '9C', '3D', '8D', '6S', 'TS', 'KS']\n",
      "4. Dealer Rep:                [Player 1]\n",
      "5. Current Player:            [Player 4]\n",
      "6. Is PlayCard phase:         [1]\n",
      "7. Last 3 Bidding Rep:        -\n",
      "8. Contract Bid rep:          [13]\n",
      "9. Contract Trump rep:        ['Club']\n",
      "10. Contract Highest Bidder:  ['Player 2']\n",
      "\n",
      "Possible Legal Actions: [9D]\n",
      ">> You choose action (integer):\n"
     ]
    },
    {
     "name": "stdin",
     "output_type": "stream",
     "text": [
      " 0\n"
     ]
    },
    {
     "name": "stdout",
     "output_type": "stream",
     "text": [
      "\n",
      "Final Choice: 9D\n",
      "\n",
      " ************************************** ROUND END (Winner: Player 2)***********************************\n",
      "\n",
      "-------------- STATE / Human Agent / Player 4 --------------\n",
      "1. My Hand Rep:               ['3C', 'JC', 'AH']\n",
      "2. Pile Rep:                  ['KS', 'TS']\n",
      "3. Other Player Rep:          ['4C', '7C', '8C', '9C', '3D', '8D', '6S']\n",
      "4. Dealer Rep:                [Player 1]\n",
      "5. Current Player:            [Player 4]\n",
      "6. Is PlayCard phase:         [1]\n",
      "7. Last 3 Bidding Rep:        -\n",
      "8. Contract Bid rep:          [13]\n",
      "9. Contract Trump rep:        ['Club']\n",
      "10. Contract Highest Bidder:  ['Player 2']\n",
      "\n",
      "Possible Legal Actions: [JC, 3C]\n",
      ">> You choose action (integer):\n"
     ]
    },
    {
     "name": "stdin",
     "output_type": "stream",
     "text": [
      " 0\n"
     ]
    },
    {
     "name": "stdout",
     "output_type": "stream",
     "text": [
      "\n",
      "Final Choice: JC\n",
      "\n",
      " ************************************** ROUND END (Winner: Player 4)***********************************\n",
      "\n",
      "-------------- STATE / Human Agent / Player 4 --------------\n",
      "1. My Hand Rep:               ['3C', 'AH']\n",
      "2. Pile Rep:                  ['7C', 'KS', 'TS', 'JC']\n",
      "3. Other Player Rep:          ['4C', '8C', '9C', '3D', '8D', '6S']\n",
      "4. Dealer Rep:                [Player 1]\n",
      "5. Current Player:            [Player 4]\n",
      "6. Is PlayCard phase:         [1]\n",
      "7. Last 3 Bidding Rep:        -\n",
      "8. Contract Bid rep:          [13]\n",
      "9. Contract Trump rep:        ['Club']\n",
      "10. Contract Highest Bidder:  ['Player 2']\n",
      "\n",
      "Possible Legal Actions: [AH, 3C]\n",
      ">> You choose action (integer):\n"
     ]
    },
    {
     "name": "stdin",
     "output_type": "stream",
     "text": [
      " 0\n"
     ]
    },
    {
     "name": "stdout",
     "output_type": "stream",
     "text": [
      "\n",
      "Final Choice: AH\n",
      "\n",
      " ************************************** ROUND END (Winner: Player 2)***********************************\n",
      "\n",
      "-------------- STATE / Human Agent / Player 4 --------------\n",
      "1. My Hand Rep:               ['3C']\n",
      "2. Pile Rep:                  ['9C', '6S']\n",
      "3. Other Player Rep:          ['8D']\n",
      "4. Dealer Rep:                [Player 1]\n",
      "5. Current Player:            [Player 4]\n",
      "6. Is PlayCard phase:         [1]\n",
      "7. Last 3 Bidding Rep:        -\n",
      "8. Contract Bid rep:          [13]\n",
      "9. Contract Trump rep:        ['Club']\n",
      "10. Contract Highest Bidder:  ['Player 2']\n",
      "\n",
      "Possible Legal Actions: [3C]\n",
      ">> You choose action (integer):\n"
     ]
    },
    {
     "name": "stdin",
     "output_type": "stream",
     "text": [
      " 0\n"
     ]
    },
    {
     "name": "stdout",
     "output_type": "stream",
     "text": [
      "\n",
      "Final Choice: 3C\n",
      "\n",
      " ************************************** ROUND END (Winner: Player 2)***********************************\n",
      "\n",
      "Winning Trick Count:\n",
      "*\t\tPlayer 1: 5\n",
      "*\t\tPlayer 2: 8\n",
      "*\t\tPlayer 3: 5\n",
      "*\t\tPlayer 4: 8\n",
      "\n",
      "Payoffs:\n",
      "*\t\tPlayer 1: 10\n",
      "*\t\tPlayer 2: -16\n",
      "*\t\tPlayer 3: 10\n",
      "*\t\tPlayer 4: -16\n",
      "\n"
     ]
    }
   ],
   "source": [
    "##### import os\n",
    "import argparse\n",
    "\n",
    "import torch\n",
    "\n",
    "import rlcard\n",
    "from rlcard.agents import RandomAgent\n",
    "from rlcard.utils import get_device, set_seed, tournament, reorganize, Logger\n",
    "from rlcard.agents.human_agent_bridge import HumanAgentBridge\n",
    "\n",
    "env2 = rlcard.make(\"bridge\", config={'seed': 7, 'verbose': True})\n",
    "\n",
    "agents = [\n",
    "          agent1,\n",
    "          agent2,\n",
    "          agent3,\n",
    "          HumanAgentBridge(num_actions=env2.num_actions, name='Player 4', verbose=True)\n",
    "         ]\n",
    "\n",
    "\n",
    "env2.set_agents(agents)\n",
    "\n",
    "_, payoffs = env2.run()"
   ]
  },
  {
   "cell_type": "code",
   "execution_count": null,
   "id": "canadian-raising",
   "metadata": {},
   "outputs": [],
   "source": []
  },
  {
   "cell_type": "code",
   "execution_count": null,
   "id": "serious-jersey",
   "metadata": {},
   "outputs": [],
   "source": []
  },
  {
   "cell_type": "code",
   "execution_count": 5,
   "id": "standard-nancy",
   "metadata": {},
   "outputs": [
    {
     "name": "stdout",
     "output_type": "stream",
     "text": [
      "Your Team: Won\n"
     ]
    }
   ],
   "source": [
    "if payoffs[1] > payoffs[0]:\n",
    "    print('Your Team: Won')\n",
    "else:\n",
    "    print('Your Team: Lose')"
   ]
  },
  {
   "cell_type": "code",
   "execution_count": null,
   "id": "heavy-spectacular",
   "metadata": {},
   "outputs": [],
   "source": []
  }
 ],
 "metadata": {
  "kernelspec": {
   "display_name": "Python 3",
   "language": "python",
   "name": "python3"
  },
  "language_info": {
   "codemirror_mode": {
    "name": "ipython",
    "version": 3
   },
   "file_extension": ".py",
   "mimetype": "text/x-python",
   "name": "python",
   "nbconvert_exporter": "python",
   "pygments_lexer": "ipython3",
   "version": "3.6.9"
  },
  "toc": {
   "base_numbering": 1,
   "nav_menu": {},
   "number_sections": true,
   "sideBar": true,
   "skip_h1_title": false,
   "title_cell": "Table of Contents",
   "title_sidebar": "Contents",
   "toc_cell": false,
   "toc_position": {},
   "toc_section_display": true,
   "toc_window_display": false
  }
 },
 "nbformat": 4,
 "nbformat_minor": 5
}
