{
 "cells": [
  {
   "cell_type": "code",
   "execution_count": 32,
   "id": "everyday-state",
   "metadata": {},
   "outputs": [],
   "source": [
    "l = [0, 0, 1, 0, 0, 1, 0, 0, 1, 0, 0, 0, 0, 0, 0, 1, 1, 0, 0, 1, 0, 0,\n",
    "       0, 1, 0, 0, 0, 1, 0, 0, 1, 0, 0, 0, 1, 0, 0, 0, 0, 0, 1, 0, 0, 0,\n",
    "       0, 0, 0, 0, 1, 1, 0, 0, 0, 0, 0, 0, 0, 0, 0, 0, 0, 0, 0, 0, 0, 0,\n",
    "       0, 0, 0, 0, 0, 0, 0, 0, 0, 0, 0, 0, 0, 0, 0, 0, 0, 0, 0, 0, 0, 0,\n",
    "       0, 0, 0, 0, 0, 0, 0, 0, 0, 0, 0, 0, 0, 0, 0, 0, 0, 0, 0, 0, 0, 0,\n",
    "       0, 0, 0, 0, 0, 0, 0, 0, 0, 0, 0, 0, 0, 0, 0, 0, 0, 0, 0, 0, 0, 0,\n",
    "       0, 0, 0, 0, 0, 0, 0, 0, 0, 0, 0, 0, 0, 0, 0, 0, 0, 0, 0, 0, 0, 0,\n",
    "       0, 0, 0, 0, 0, 0, 0, 0, 0, 0, 0, 0, 0, 0, 0, 0, 0, 0, 0, 0, 0, 0,\n",
    "       0, 0, 0, 0, 0, 0, 0, 0, 0, 0, 0, 0, 0, 0, 0, 0, 0, 0, 0, 0, 0, 0,\n",
    "       0, 0, 0, 0, 0, 0, 0, 0, 0, 0, 0, 0, 0, 0, 0, 0, 0, 0, 0, 0, 0, 0,\n",
    "       0, 0, 0, 0, 0, 0, 0, 0, 0, 0, 0, 0, 0, 0, 0, 0, 0, 0, 0, 0, 0, 0,\n",
    "       0, 0, 0, 0, 0, 0, 0, 0, 0, 0, 0, 0, 0, 0, 0, 0, 0, 0, 0, 0, 0, 0,\n",
    "       0, 0, 0, 0, 0, 0, 0, 0, 0, 0, 0, 0, 0, 0, 0, 0, 0, 0, 0, 0, 0, 0,\n",
    "       0, 0, 0, 0, 0, 0, 0, 0, 0, 0, 0, 0, 0, 0, 0, 0, 0, 0, 0, 0, 0, 0,\n",
    "       0, 0, 0, 0, 0, 0, 0, 0, 0, 0, 0, 0, 0, 0, 0, 0, 0, 0, 0, 0, 0, 0,\n",
    "       0, 0, 0, 0, 0, 0, 0, 0, 0, 0, 0, 0, 0, 0, 0, 0, 0, 0, 0, 0, 0, 0,\n",
    "       0, 0, 0, 0, 0, 0, 0, 0, 0, 0, 0, 0, 0, 0, 0, 0, 0, 0, 0, 0, 0, 0,\n",
    "       0, 0, 0, 0, 0, 0, 0, 0, 0, 0, 0, 0, 0, 0, 0, 0, 0, 0, 0, 0, 0, 0,\n",
    "       0, 0, 0, 0, 0, 0, 0, 0, 0, 0, 0, 0, 0, 0, 0, 0, 0, 0, 0, 0, 1, 1,\n",
    "       0, 1, 1, 0, 1, 1, 0, 1, 1, 1, 1, 1, 1, 0, 0, 1, 1, 0, 1, 1, 1, 0,\n",
    "       1, 1, 1, 0, 1, 1, 0, 1, 1, 1, 0, 1, 1, 1, 1, 1, 0, 1, 1, 1, 1, 1,\n",
    "       1, 1, 0, 0, 1, 1, 1, 0, 0, 0, 1, 0, 0, 0, 0, 0, 0, 0, 0, 0, 0, 0,\n",
    "       0, 0, 0, 0, 0, 0, 0, 0, 0, 0, 0, 0, 0, 0, 0, 0, 0, 0, 0, 0, 0, 0,\n",
    "       0, 0, 0, 0, 0, 0, 0, 0, 0, 0, 0, 0, 0, 0, 0, 0, 0, 0, 0, 0, 0, 0,\n",
    "       0, 0, 0, 0, 0, 0, 0, 0, 0, 0, 0, 0, 0, 0, 0, 0, 0, 0, 0, 0, 0, 0,\n",
    "       0, 0, 0, 0, 0, 0, 0, 0, 0, 0, 0, 0, 0, 0, 0, 0, 0, 0, 0, 0, 0, 0,\n",
    "       0, 0, 0, 0, 0, 0, 0, 0, 0, 0, 0, 0, 0, 0, 0, 0, 0, 0, 0, 0, 0, 0,\n",
    "       0, 0, 0, 0, 0, 0, 0, 0, 0, 0, 0, 0, 0, 0, 0, 0, 0, 0, 0, 0, 0, 0,\n",
    "       0, 0, 0, 0, 0, 0, 0, 0, 0, 0, 0, 0, 0, 0, 0, 0, 0, 0, 0, 0, 0, 0,\n",
    "       0, 0, 0, 0, 0, 0, 0, 0, 0, 0, 0, 0, 0, 0, 0, 0, 0, 0, 0, 0, 0, 0,\n",
    "       0, 0, 0, 0, 0, 0, 0, 0, 0, 0]"
   ]
  },
  {
   "cell_type": "code",
   "execution_count": 33,
   "id": "constant-dynamics",
   "metadata": {},
   "outputs": [
    {
     "data": {
      "text/plain": [
       "670"
      ]
     },
     "execution_count": 33,
     "metadata": {},
     "output_type": "execute_result"
    }
   ],
   "source": [
    "len(l)"
   ]
  },
  {
   "cell_type": "code",
   "execution_count": 34,
   "id": "dutch-company",
   "metadata": {},
   "outputs": [],
   "source": [
    "l1_hand_rep           = l[0:208]\n",
    "l2_pile_rep           = l[208:415+1]\n",
    "l3_otherplayer_rep    = l[416:467+1]\n",
    "\n",
    "l4_highest_bidder      = l[468:471+1]\n",
    "l5_current_player     = l[472:475+1]\n",
    "\n",
    "l6_bidding_phase      = l[476:476+1]\n",
    "l7_bidding_amount_rep = l[477:620+1]\n",
    "l8_last_bid_amt_rep   = l[621:656+1]\n",
    "\n",
    "l9_contract_bid_rep   = l[657:664+1]\n",
    "l10_contract_trump_rep= l[665:]"
   ]
  },
  {
   "cell_type": "markdown",
   "id": "south-airfare",
   "metadata": {},
   "source": [
    "## 1"
   ]
  },
  {
   "cell_type": "code",
   "execution_count": null,
   "id": "sought-graph",
   "metadata": {},
   "outputs": [],
   "source": [
    "l = state['obs']\n",
    "\n",
    "\n",
    "def print_state(l):\n",
    "    l1_hand_rep           = l[0:208]\n",
    "    l2_pile_rep           = l[208:415+1]\n",
    "    l3_otherplayer_rep    = l[416:467+1]\n",
    "\n",
    "    l4_highest_bidder      = l[468:471+1]\n",
    "    l5_current_player     = l[472:475+1]\n",
    "\n",
    "    l6_bidding_phase      = l[476:476+1]\n",
    "    l7_bidding_amount_rep = l[477:620+1]\n",
    "    l8_last_bid_amt_rep   = l[621:656+1]\n",
    "\n",
    "    l9_contract_bid_rep   = l[657:664+1]\n",
    "    l10_contract_trump_rep= l[665:]\n",
    "\n",
    "    suits = ['C', 'D', 'H', 'S']\n",
    "    ranks = ['2', '3', '4', '5', '6', '7', '8', '9', 'T', 'J', 'Q', 'K', 'A']\n",
    "    all_cards = [r+s for s in suits for r in ranks]\n",
    "    \n",
    "    print('/n-------------- STATE --------------')\n",
    "    print('1. ')[all_cards[idx] for idx, x in enumerate(l1_hand_rep) if x]\n",
    "    print()"
   ]
  },
  {
   "cell_type": "code",
   "execution_count": 35,
   "id": "upset-cache",
   "metadata": {
    "scrolled": true
   },
   "outputs": [],
   "source": [
    "suits = ['C', 'D', 'H', 'S']\n",
    "ranks = ['2', '3', '4', '5', '6', '7', '8', '9', 'T', 'J', 'Q', 'K', 'A']\n",
    "\n",
    "all_cards = [r+s for s in suits for r in ranks]\n",
    "# all_cards"
   ]
  },
  {
   "cell_type": "code",
   "execution_count": 36,
   "id": "engaged-identifier",
   "metadata": {},
   "outputs": [
    {
     "data": {
      "text/plain": [
       "['4C', '7C', 'TC', '4D', '5D', '8D', 'QD', '3H', '6H', 'TH', '3S', 'JS', 'QS']"
      ]
     },
     "execution_count": 36,
     "metadata": {},
     "output_type": "execute_result"
    }
   ],
   "source": [
    "[all_cards[idx] for idx, x in enumerate(l1_hand_rep) if x]"
   ]
  },
  {
   "cell_type": "markdown",
   "id": "finnish-lancaster",
   "metadata": {},
   "source": [
    "## 2 "
   ]
  },
  {
   "cell_type": "code",
   "execution_count": 37,
   "id": "rapid-tracker",
   "metadata": {},
   "outputs": [
    {
     "data": {
      "text/plain": [
       "[]"
      ]
     },
     "execution_count": 37,
     "metadata": {},
     "output_type": "execute_result"
    }
   ],
   "source": [
    "[all_cards[idx] for idx, x in enumerate(l2_pile_rep) if x]"
   ]
  },
  {
   "cell_type": "markdown",
   "id": "racial-samoa",
   "metadata": {},
   "source": [
    "## 3"
   ]
  },
  {
   "cell_type": "code",
   "execution_count": 38,
   "id": "packed-clerk",
   "metadata": {},
   "outputs": [],
   "source": [
    "x = [all_cards[idx] for idx, x in enumerate(l3_otherplayer_rep) if x]"
   ]
  },
  {
   "cell_type": "code",
   "execution_count": 39,
   "id": "international-fiber",
   "metadata": {},
   "outputs": [
    {
     "data": {
      "text/plain": [
       "39"
      ]
     },
     "execution_count": 39,
     "metadata": {},
     "output_type": "execute_result"
    }
   ],
   "source": [
    "len(x)"
   ]
  },
  {
   "cell_type": "code",
   "execution_count": 40,
   "id": "linear-crazy",
   "metadata": {},
   "outputs": [
    {
     "name": "stdout",
     "output_type": "stream",
     "text": [
      "['2C', '3C', '5C', '6C', '8C', '9C', 'JC', 'QC', 'KC', 'AC', '2D', '3D', '6D', '7D', '9D', 'TD', 'JD', 'KD', 'AD', '2H', '4H', '5H', '7H', '8H', '9H', 'JH', 'QH', 'KH', 'AH', '2S', '4S', '5S', '6S', '7S', '8S', '9S', 'TS', 'KS', 'AS']\n"
     ]
    }
   ],
   "source": [
    "print(x)"
   ]
  },
  {
   "cell_type": "markdown",
   "id": "alien-bundle",
   "metadata": {},
   "source": [
    "## 4"
   ]
  },
  {
   "cell_type": "code",
   "execution_count": 41,
   "id": "sweet-bedroom",
   "metadata": {},
   "outputs": [
    {
     "data": {
      "text/plain": [
       "[1, 0, 0, 0]"
      ]
     },
     "execution_count": 41,
     "metadata": {},
     "output_type": "execute_result"
    }
   ],
   "source": [
    "l4_highest_bidder"
   ]
  },
  {
   "cell_type": "markdown",
   "id": "dress-bulletin",
   "metadata": {},
   "source": [
    "## 5"
   ]
  },
  {
   "cell_type": "code",
   "execution_count": 42,
   "id": "innovative-campbell",
   "metadata": {},
   "outputs": [
    {
     "data": {
      "text/plain": [
       "[1, 0, 0, 0]"
      ]
     },
     "execution_count": 42,
     "metadata": {},
     "output_type": "execute_result"
    }
   ],
   "source": [
    "l5_current_player"
   ]
  },
  {
   "cell_type": "markdown",
   "id": "possible-warner",
   "metadata": {},
   "source": [
    "## 6"
   ]
  },
  {
   "cell_type": "code",
   "execution_count": 43,
   "id": "identified-ordinance",
   "metadata": {},
   "outputs": [
    {
     "data": {
      "text/plain": [
       "[0]"
      ]
     },
     "execution_count": 43,
     "metadata": {},
     "output_type": "execute_result"
    }
   ],
   "source": [
    "l6_bidding_phase"
   ]
  },
  {
   "cell_type": "markdown",
   "id": "advance-repeat",
   "metadata": {},
   "source": [
    "## 7"
   ]
  },
  {
   "cell_type": "code",
   "execution_count": null,
   "id": "excessive-brazilian",
   "metadata": {},
   "outputs": [],
   "source": []
  },
  {
   "cell_type": "code",
   "execution_count": null,
   "id": "following-extreme",
   "metadata": {},
   "outputs": [],
   "source": []
  },
  {
   "cell_type": "code",
   "execution_count": 44,
   "id": "regional-embassy",
   "metadata": {},
   "outputs": [
    {
     "data": {
      "text/plain": [
       "[]"
      ]
     },
     "execution_count": 44,
     "metadata": {},
     "output_type": "execute_result"
    }
   ],
   "source": [
    "[idx for idx, x in enumerate(l7_bidding_amount_rep) if x]"
   ]
  },
  {
   "cell_type": "markdown",
   "id": "emotional-genius",
   "metadata": {},
   "source": [
    "## 8"
   ]
  },
  {
   "cell_type": "code",
   "execution_count": 45,
   "id": "earlier-nation",
   "metadata": {},
   "outputs": [],
   "source": [
    "bids = ['7', '8', '9', '10', '11', '12', '13']\n",
    "suits = ['C', 'D', 'H', 'S', 'NT']\n",
    "\n",
    "\n",
    "all_bid = []\n",
    "for p in ['p0', 'p1', 'p2', 'p3']:\n",
    "    all_bid += [p+'_'+'pass']\n",
    "    for s in suits:\n",
    "        for amt in bids:\n",
    "            all_bid  += [p+'_'+s+'_'+amt]"
   ]
  },
  {
   "cell_type": "code",
   "execution_count": 46,
   "id": "medium-intranet",
   "metadata": {},
   "outputs": [
    {
     "data": {
      "text/plain": [
       "144"
      ]
     },
     "execution_count": 46,
     "metadata": {},
     "output_type": "execute_result"
    }
   ],
   "source": [
    "len(all_bid)"
   ]
  },
  {
   "cell_type": "code",
   "execution_count": 47,
   "id": "physical-trick",
   "metadata": {},
   "outputs": [
    {
     "data": {
      "text/plain": [
       "[]"
      ]
     },
     "execution_count": 47,
     "metadata": {},
     "output_type": "execute_result"
    }
   ],
   "source": [
    "[idx for idx, x in enumerate(l8_last_bid_amt_rep) if x]"
   ]
  },
  {
   "cell_type": "markdown",
   "id": "downtown-configuration",
   "metadata": {},
   "source": [
    "## 9"
   ]
  },
  {
   "cell_type": "code",
   "execution_count": 48,
   "id": "pacific-interaction",
   "metadata": {},
   "outputs": [
    {
     "data": {
      "text/plain": [
       "[0, 0, 0, 0, 0, 0, 0, 0]"
      ]
     },
     "execution_count": 48,
     "metadata": {},
     "output_type": "execute_result"
    }
   ],
   "source": [
    "l9_contract_bid_rep"
   ]
  },
  {
   "cell_type": "markdown",
   "id": "restricted-spirituality",
   "metadata": {},
   "source": [
    "## 10"
   ]
  },
  {
   "cell_type": "code",
   "execution_count": 49,
   "id": "touched-column",
   "metadata": {},
   "outputs": [
    {
     "data": {
      "text/plain": [
       "[0, 0, 0, 0, 0]"
      ]
     },
     "execution_count": 49,
     "metadata": {},
     "output_type": "execute_result"
    }
   ],
   "source": [
    "l10_contract_trump_rep"
   ]
  },
  {
   "cell_type": "code",
   "execution_count": null,
   "id": "declared-metallic",
   "metadata": {},
   "outputs": [],
   "source": []
  }
 ],
 "metadata": {
  "kernelspec": {
   "display_name": "Python 3",
   "language": "python",
   "name": "python3"
  },
  "language_info": {
   "codemirror_mode": {
    "name": "ipython",
    "version": 3
   },
   "file_extension": ".py",
   "mimetype": "text/x-python",
   "name": "python",
   "nbconvert_exporter": "python",
   "pygments_lexer": "ipython3",
   "version": "3.6.8"
  },
  "toc": {
   "base_numbering": 1,
   "nav_menu": {},
   "number_sections": true,
   "sideBar": true,
   "skip_h1_title": false,
   "title_cell": "Table of Contents",
   "title_sidebar": "Contents",
   "toc_cell": false,
   "toc_position": {},
   "toc_section_display": true,
   "toc_window_display": false
  }
 },
 "nbformat": 4,
 "nbformat_minor": 5
}
